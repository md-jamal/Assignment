{
 "cells": [
  {
   "cell_type": "code",
   "execution_count": 1,
   "metadata": {
    "collapsed": false,
    "deletable": true,
    "editable": true
   },
   "outputs": [],
   "source": [
    "import nltk\n"
   ]
  },
  {
   "cell_type": "code",
   "execution_count": 2,
   "metadata": {
    "collapsed": false,
    "deletable": true,
    "editable": true
   },
   "outputs": [
    {
     "name": "stdout",
     "output_type": "stream",
     "text": [
      "*** Introductory Examples for the NLTK Book ***\n",
      "Loading text1, ..., text9 and sent1, ..., sent9\n",
      "Type the name of the text or sentence to view it.\n",
      "Type: 'texts()' or 'sents()' to list the materials.\n",
      "text1: Moby Dick by Herman Melville 1851\n",
      "text2: Sense and Sensibility by Jane Austen 1811\n",
      "text3: The Book of Genesis\n",
      "text4: Inaugural Address Corpus\n",
      "text5: Chat Corpus\n",
      "text6: Monty Python and the Holy Grail\n",
      "text7: Wall Street Journal\n",
      "text8: Personals Corpus\n",
      "text9: The Man Who Was Thursday by G . K . Chesterton 1908\n"
     ]
    }
   ],
   "source": [
    "from nltk.book import *\n"
   ]
  },
  {
   "cell_type": "code",
   "execution_count": 3,
   "metadata": {
    "collapsed": false,
    "deletable": true,
    "editable": true
   },
   "outputs": [
    {
     "data": {
      "text/plain": [
       "<Text: Sense and Sensibility by Jane Austen 1811>"
      ]
     },
     "execution_count": 3,
     "metadata": {},
     "output_type": "execute_result"
    }
   ],
   "source": [
    "text1\n",
    "text2\n"
   ]
  },
  {
   "cell_type": "code",
   "execution_count": 4,
   "metadata": {
    "collapsed": false
   },
   "outputs": [
    {
     "name": "stdout",
     "output_type": "stream",
     "text": [
      "<Text: Moby Dick by Herman Melville 1851>\n"
     ]
    }
   ],
   "source": [
    "print text1\n"
   ]
  },
  {
   "cell_type": "code",
   "execution_count": 5,
   "metadata": {
    "collapsed": false
   },
   "outputs": [
    {
     "data": {
      "text/plain": [
       "type"
      ]
     },
     "execution_count": 5,
     "metadata": {},
     "output_type": "execute_result"
    }
   ],
   "source": [
    "type(type)"
   ]
  },
  {
   "cell_type": "code",
   "execution_count": 6,
   "metadata": {
    "collapsed": false
   },
   "outputs": [
    {
     "data": {
      "text/plain": [
       "nltk.text.Text"
      ]
     },
     "execution_count": 6,
     "metadata": {},
     "output_type": "execute_result"
    }
   ],
   "source": [
    "type(text1)"
   ]
  },
  {
   "cell_type": "code",
   "execution_count": 9,
   "metadata": {
    "collapsed": false
   },
   "outputs": [
    {
     "name": "stdout",
     "output_type": "stream",
     "text": [
      "Displaying 11 of 11 matches:\n",
      "ong the former , one was of a most monstrous size . ... This came towards us , \n",
      "ON OF THE PSALMS . \" Touching that monstrous bulk of the whale or ork we have r\n",
      "ll over with a heathenish array of monstrous clubs and spears . Some were thick\n",
      "d as you gazed , and wondered what monstrous cannibal and savage could ever hav\n",
      "that has survived the flood ; most monstrous and most mountainous ! That Himmal\n",
      "they might scout at Moby Dick as a monstrous fable , or still worse and more de\n",
      "th of Radney .'\" CHAPTER 55 Of the Monstrous Pictures of Whales . I shall ere l\n",
      "ing Scenes . In connexion with the monstrous pictures of whales , I am strongly\n",
      "ere to enter upon those still more monstrous stories of them which are to be fo\n",
      "ght have been rummaged out of this monstrous cabinet there is no telling . But \n",
      "of Whale - Bones ; for Whales of a monstrous size are oftentimes cast up dead u\n"
     ]
    }
   ],
   "source": [
    "text1.concordance('monstrous')\n"
   ]
  },
  {
   "cell_type": "code",
   "execution_count": 11,
   "metadata": {
    "collapsed": false
   },
   "outputs": [
    {
     "name": "stdout",
     "output_type": "stream",
     "text": [
      "Displaying 2 of 2 matches:\n",
      ". You shuddered as you gazed , and wondered what monstrous cannibal and savage\n",
      "ry with a vengeance . Afterwards I wondered the less at this operation when I \n"
     ]
    }
   ],
   "source": [
    "text1.concordance('wondered')"
   ]
  },
  {
   "cell_type": "code",
   "execution_count": 12,
   "metadata": {
    "collapsed": false
   },
   "outputs": [
    {
     "name": "stdout",
     "output_type": "stream",
     "text": [
      "Displaying 25 of 79 matches:\n",
      ", however , and , as a mark of his affection for the three girls , he left them\n",
      "t . It was very well known that no affection was ever supposed to exist between\n",
      "deration of politeness or maternal affection on the side of the former , the tw\n",
      "d the suspicion -- the hope of his affection for me may warrant , without impru\n",
      "hich forbade the indulgence of his affection . She knew that his mother neither\n",
      "rd she gave one with still greater affection . Though her late conversation wit\n",
      " can never hope to feel or inspire affection again , and if her home be uncomfo\n",
      "m of the sense , elegance , mutual affection , and domestic comfort of the fami\n",
      ", and which recommended him to her affection beyond every thing else . His soci\n",
      "ween the parties might forward the affection of Mr . Willoughby , an equally st\n",
      " the most pointed assurance of her affection . Elinor could not be surprised at\n",
      "he natural consequence of a strong affection in a young and ardent mind . This \n",
      " opinion . But by an appeal to her affection for her mother , by representing t\n",
      " every alteration of a place which affection had established as perfect with hi\n",
      "e will always have one claim of my affection , which no other can possibly shar\n",
      "f the evening declared at once his affection and happiness . \" Shall we see you\n",
      "ause he took leave of us with less affection than his usual behaviour has shewn\n",
      "ness .\" \" I want no proof of their affection ,\" said Elinor ; \" but of their en\n",
      "onths , without telling her of his affection ;-- that they should part without \n",
      "ould be the natural result of your affection for her . She used to be all unres\n",
      "distinguished Elinor by no mark of affection . Marianne saw and listened with i\n",
      "th no inclination for expense , no affection for strangers , no profession , an\n",
      "till distinguished her by the same affection which once she had felt no doubt o\n",
      "al of her confidence in Edward ' s affection , to the remembrance of every mark\n",
      " was made ? Had he never owned his affection to yourself ?\" \" Oh , no ; but if \n"
     ]
    }
   ],
   "source": [
    "text2.concordance('affection')"
   ]
  },
  {
   "cell_type": "code",
   "execution_count": 13,
   "metadata": {
    "collapsed": false
   },
   "outputs": [
    {
     "name": "stdout",
     "output_type": "stream",
     "text": [
      "Displaying 7 of 7 matches:\n",
      " , and that ha , ha ' s the final consequence . Why so ? Because a laugh ' s th\n",
      "omplete freedom of the ship . The consequence of all this was , that the archan\n",
      "dull , spotted , green mould , in consequence of being kept in a dark locker of\n",
      " his white - ash , and while , in consequence , Derick ' s boat was nigh to cap\n",
      "forbidding any other course . The consequence is , that upon breaking into the \n",
      "rew your navel , and what ' s the consequence ? Then again , if it stays here ,\n",
      "ftener than at present , and , in consequence , the voyages were not so prolong\n"
     ]
    }
   ],
   "source": [
    "text1.concordance('consequence')"
   ]
  },
  {
   "cell_type": "code",
   "execution_count": 14,
   "metadata": {
    "collapsed": false
   },
   "outputs": [
    {
     "name": "stdout",
     "output_type": "stream",
     "text": [
      "No matches\n"
     ]
    }
   ],
   "source": [
    "text1.concordance('lib')"
   ]
  },
  {
   "cell_type": "code",
   "execution_count": 15,
   "metadata": {
    "collapsed": false
   },
   "outputs": [
    {
     "name": "stdout",
     "output_type": "stream",
     "text": [
      "No matches\n"
     ]
    }
   ],
   "source": [
    "text1.similar('monstars')"
   ]
  },
  {
   "cell_type": "code",
   "execution_count": 16,
   "metadata": {
    "collapsed": false
   },
   "outputs": [
    {
     "name": "stdout",
     "output_type": "stream",
     "text": [
      "Displaying 11 of 11 matches:\n",
      "ong the former , one was of a most monstrous size . ... This came towards us , \n",
      "ON OF THE PSALMS . \" Touching that monstrous bulk of the whale or ork we have r\n",
      "ll over with a heathenish array of monstrous clubs and spears . Some were thick\n",
      "d as you gazed , and wondered what monstrous cannibal and savage could ever hav\n",
      "that has survived the flood ; most monstrous and most mountainous ! That Himmal\n",
      "they might scout at Moby Dick as a monstrous fable , or still worse and more de\n",
      "th of Radney .'\" CHAPTER 55 Of the Monstrous Pictures of Whales . I shall ere l\n",
      "ing Scenes . In connexion with the monstrous pictures of whales , I am strongly\n",
      "ere to enter upon those still more monstrous stories of them which are to be fo\n",
      "ght have been rummaged out of this monstrous cabinet there is no telling . But \n",
      "of Whale - Bones ; for Whales of a monstrous size are oftentimes cast up dead u\n"
     ]
    }
   ],
   "source": [
    "text1.concordance('monstrous')"
   ]
  },
  {
   "cell_type": "code",
   "execution_count": 17,
   "metadata": {
    "collapsed": false
   },
   "outputs": [
    {
     "name": "stdout",
     "output_type": "stream",
     "text": [
      "Displaying 11 of 11 matches:\n",
      ". \" Now , Palmer , you shall see a monstrous pretty girl .\" He immediately went\n",
      "your sister is to marry him . I am monstrous glad of it , for then I shall have\n",
      "ou may tell your sister . She is a monstrous lucky girl to get him , upon my ho\n",
      "k how you will like them . Lucy is monstrous pretty , and so good humoured and \n",
      " Jennings , \" I am sure I shall be monstrous glad of Miss Marianne ' s company \n",
      " usual noisy cheerfulness , \" I am monstrous glad to see you -- sorry I could n\n",
      "t however , as it turns out , I am monstrous glad there was never any thing in \n",
      "so scornfully ! for they say he is monstrous fond of her , as well he may . I s\n",
      "possible that she should .\" \" I am monstrous glad of it . Good gracious ! I hav\n",
      "thing of the kind . So then he was monstrous happy , and talked on some time ab\n",
      "e very genteel people . He makes a monstrous deal of money , and they keep thei\n"
     ]
    }
   ],
   "source": [
    "text2.concordance('monstrous')"
   ]
  },
  {
   "cell_type": "code",
   "execution_count": 18,
   "metadata": {
    "collapsed": false
   },
   "outputs": [
    {
     "name": "stdout",
     "output_type": "stream",
     "text": [
      "imperial subtly impalpable pitiable curious abundant perilous\n",
      "trustworthy untoward singular lamentable few determined maddens\n",
      "horrible tyrannical lazy mystifying christian exasperate\n"
     ]
    }
   ],
   "source": [
    "text1.similar('monstrous')"
   ]
  },
  {
   "cell_type": "code",
   "execution_count": 19,
   "metadata": {
    "collapsed": false
   },
   "outputs": [
    {
     "name": "stdout",
     "output_type": "stream",
     "text": [
      "very exceedingly so heartily a great good amazingly as sweet\n",
      "remarkably extremely vast\n"
     ]
    }
   ],
   "source": [
    "text2.similar('monstrous')"
   ]
  },
  {
   "cell_type": "code",
   "execution_count": 20,
   "metadata": {
    "collapsed": false
   },
   "outputs": [
    {
     "name": "stdout",
     "output_type": "stream",
     "text": [
      "(u'The following word(s) were not found:', u'm o n s t r o u s')\n"
     ]
    }
   ],
   "source": [
    "text1.common_contexts('monstrous','very')"
   ]
  },
  {
   "cell_type": "code",
   "execution_count": 22,
   "metadata": {
    "collapsed": false
   },
   "outputs": [
    {
     "name": "stdout",
     "output_type": "stream",
     "text": [
      "a_pretty is_pretty a_lucky am_glad be_glad\n"
     ]
    }
   ],
   "source": [
    "text2.common_contexts(['monstrous','very'])"
   ]
  },
  {
   "cell_type": "raw",
   "metadata": {},
   "source": []
  },
  {
   "cell_type": "code",
   "execution_count": 23,
   "metadata": {
    "collapsed": false
   },
   "outputs": [
    {
     "name": "stdout",
     "output_type": "stream",
     "text": [
      "260819\n",
      "141576\n",
      "44764\n",
      "145735\n",
      "45010\n",
      "16967\n",
      "100676\n",
      "4867\n",
      "69213\n"
     ]
    }
   ],
   "source": [
    "print len(text1)\n",
    "print len(text2)\n",
    "print len(text3)\n",
    "print len(text4)\n",
    "print len(text5)\n",
    "print len(text6)\n",
    "print len(text7)\n",
    "print len(text8)\n",
    "print len(text9)"
   ]
  },
  {
   "cell_type": "code",
   "execution_count": 24,
   "metadata": {
    "collapsed": false
   },
   "outputs": [
    {
     "name": "stdout",
     "output_type": "stream",
     "text": [
      "No common contexts were found\n"
     ]
    }
   ],
   "source": [
    "text1.common_contexts(['monstrous','very'])"
   ]
  },
  {
   "cell_type": "code",
   "execution_count": 25,
   "metadata": {
    "collapsed": false
   },
   "outputs": [
    {
     "name": "stdout",
     "output_type": "stream",
     "text": [
      "(u'The following word(s) were not found:', u'm o n s t r o u s')\n"
     ]
    }
   ],
   "source": [
    "text3.common_contexts('monstrous','very')"
   ]
  },
  {
   "cell_type": "code",
   "execution_count": 26,
   "metadata": {
    "collapsed": false
   },
   "outputs": [
    {
     "name": "stdout",
     "output_type": "stream",
     "text": [
      "No common contexts were found\n"
     ]
    }
   ],
   "source": [
    "text1.common_contexts(['monstrous','very'])"
   ]
  },
  {
   "cell_type": "code",
   "execution_count": 27,
   "metadata": {
    "collapsed": false
   },
   "outputs": [
    {
     "name": "stdout",
     "output_type": "stream",
     "text": [
      "(u'The following word(s) were not found:', u'monstrous very')\n"
     ]
    }
   ],
   "source": [
    "text3.common_contexts(['monstrous','very'])"
   ]
  },
  {
   "cell_type": "code",
   "execution_count": 28,
   "metadata": {
    "collapsed": false
   },
   "outputs": [
    {
     "data": {
      "text/plain": [
       "19317"
      ]
     },
     "execution_count": 28,
     "metadata": {},
     "output_type": "execute_result"
    }
   ],
   "source": [
    "len(set(text1))"
   ]
  },
  {
   "cell_type": "code",
   "execution_count": 29,
   "metadata": {
    "collapsed": false
   },
   "outputs": [
    {
     "data": {
      "text/plain": [
       "{u'funereal',\n",
       " u'unscientific',\n",
       " u'divinely',\n",
       " u'foul',\n",
       " u'four',\n",
       " u'gag',\n",
       " u'prefix',\n",
       " u'woods',\n",
       " u'clotted',\n",
       " u'Duck',\n",
       " u'hanging',\n",
       " u'plaudits',\n",
       " u'woody',\n",
       " u'Until',\n",
       " u'marching',\n",
       " u'disobeying',\n",
       " u'canes',\n",
       " u'granting',\n",
       " u'advantage',\n",
       " u'Westers',\n",
       " u'insertion',\n",
       " u'DRYDEN',\n",
       " u'formless',\n",
       " u'Untried',\n",
       " u'superficially',\n",
       " u'Western',\n",
       " u'portentous',\n",
       " u'meadows',\n",
       " u'sinking',\n",
       " u'Ding',\n",
       " u'Spurn',\n",
       " u'treasuries',\n",
       " u'churned',\n",
       " u'oceans',\n",
       " u'invasion',\n",
       " u'powders',\n",
       " u'tinkerings',\n",
       " u'tantalizing',\n",
       " u'yellow',\n",
       " u'bolting',\n",
       " u'uncertain',\n",
       " u'stabbed',\n",
       " u'bringing',\n",
       " u'elevations',\n",
       " u'ferreting',\n",
       " u'wooded',\n",
       " u'songster',\n",
       " u'uttering',\n",
       " u'scholar',\n",
       " u'Less',\n",
       " u'wooden',\n",
       " u'Saco',\n",
       " u'clings',\n",
       " u'replaced',\n",
       " u'piling',\n",
       " u'broiled',\n",
       " u'Winding',\n",
       " u'persisted',\n",
       " u'Does',\n",
       " u'Sands',\n",
       " u'crotch',\n",
       " u'succession',\n",
       " u'Paul',\n",
       " u'reliable',\n",
       " u'Bolivia',\n",
       " u'ornamental',\n",
       " u'charter',\n",
       " u'puissant',\n",
       " u'sooty',\n",
       " u'nigh',\n",
       " u'heaped',\n",
       " u'miller',\n",
       " u'cordially',\n",
       " u'railing',\n",
       " u'mail',\n",
       " u'pulse',\n",
       " u'elegant',\n",
       " u'second',\n",
       " u'Hecla',\n",
       " u'valiant',\n",
       " u'sustaining',\n",
       " u'compliance',\n",
       " u'sailed',\n",
       " u'scraped',\n",
       " u'haughtily',\n",
       " u'bolts',\n",
       " u'hilariously',\n",
       " u'errors',\n",
       " u'relieving',\n",
       " u'whaling',\n",
       " u'BERMUDAS',\n",
       " u'ruthless',\n",
       " u'thunder',\n",
       " u'cooking',\n",
       " u'contributed',\n",
       " u'fingers',\n",
       " u'shamble',\n",
       " u'hostile',\n",
       " u'fossil',\n",
       " u'sneering',\n",
       " u'College',\n",
       " u'increasing',\n",
       " u'artificialness',\n",
       " u'exclamations',\n",
       " u'shocks',\n",
       " u'psalmody',\n",
       " u'avers',\n",
       " u'hero',\n",
       " u'intellects',\n",
       " u'Plate',\n",
       " u'gayer',\n",
       " u'leaning',\n",
       " u'here',\n",
       " u'herd',\n",
       " u'reported',\n",
       " u'Fiery',\n",
       " u'primogenitures',\n",
       " u'gaffs',\n",
       " u'fissures',\n",
       " u'browed',\n",
       " u'shriek',\n",
       " u'calculate',\n",
       " u'natured',\n",
       " u'invade',\n",
       " u'bulkhead',\n",
       " u'substance',\n",
       " u'whiffs',\n",
       " u'unwillingness',\n",
       " u'elaborate',\n",
       " u'climbed',\n",
       " u'unfriendly',\n",
       " u'reports',\n",
       " u'Yonder',\n",
       " u'circumferences',\n",
       " u'electricity',\n",
       " u'misgrown',\n",
       " u'believers',\n",
       " u'transfixed',\n",
       " u'natures',\n",
       " u'NOT',\n",
       " u'military',\n",
       " u'Isles',\n",
       " u'rebel',\n",
       " u'punctilious',\n",
       " u'golden',\n",
       " u'divide',\n",
       " u'classification',\n",
       " u'secluded',\n",
       " u'sweetest',\n",
       " u'SAMUEL',\n",
       " u'precincts',\n",
       " u'Three',\n",
       " u'shabbily',\n",
       " u'summons',\n",
       " u'brought',\n",
       " u'Hardicanutes',\n",
       " u'remnant',\n",
       " u'stern',\n",
       " u'Wales',\n",
       " u'sinew',\n",
       " u'painters',\n",
       " u'cherishing',\n",
       " u'cheating',\n",
       " u'spoke',\n",
       " u'handedness',\n",
       " u'exhort',\n",
       " u'glimmering',\n",
       " u'cannibal',\n",
       " u'accommodation',\n",
       " u'occupying',\n",
       " u'moth',\n",
       " u'reverenced',\n",
       " u'music',\n",
       " u'therefore',\n",
       " u'passport',\n",
       " u'violently',\n",
       " u'strike',\n",
       " u'fossiliferous',\n",
       " u'until',\n",
       " u'icebound',\n",
       " u'suffocated',\n",
       " u'Blind',\n",
       " u'females',\n",
       " u'holy',\n",
       " u'successful',\n",
       " u'Biographical',\n",
       " u'hereby',\n",
       " u'whirling',\n",
       " u'canonized',\n",
       " u'hurt',\n",
       " u'99',\n",
       " u'glass',\n",
       " u'diademed',\n",
       " u'menaced',\n",
       " u'tying',\n",
       " u'lord',\n",
       " u'91',\n",
       " u'90',\n",
       " u'midst',\n",
       " u'hold',\n",
       " u'extorting',\n",
       " u'whalebone',\n",
       " u'97',\n",
       " u'circumstances',\n",
       " u'tastefully',\n",
       " u'morally',\n",
       " u'PREBLE',\n",
       " u'archaeological',\n",
       " u'pursue',\n",
       " u'famed',\n",
       " u'blade',\n",
       " u'plunged',\n",
       " u'Chilian',\n",
       " u'locker',\n",
       " u'cuttle',\n",
       " u'View',\n",
       " u'leaped',\n",
       " u'moidores',\n",
       " u'Holloa',\n",
       " u'apoplexy',\n",
       " u'ELLERY',\n",
       " u'example',\n",
       " u'misfortunes',\n",
       " u'wand',\n",
       " u'La',\n",
       " u'Lo',\n",
       " u'household',\n",
       " u'OWEN',\n",
       " u'organized',\n",
       " u'Reality',\n",
       " u'Tartarian',\n",
       " u'caution',\n",
       " u'kingdoms',\n",
       " u'want',\n",
       " u'Unicornism',\n",
       " u'jure',\n",
       " u'absolute',\n",
       " u'provincial',\n",
       " u'enlist',\n",
       " u'hoe',\n",
       " u'hob',\n",
       " u'groaned',\n",
       " u'auger',\n",
       " u'travel',\n",
       " u'cavaliers',\n",
       " u'subtleness',\n",
       " u'clews',\n",
       " u'Physiognomist',\n",
       " u'embellishments',\n",
       " u'how',\n",
       " u'hot',\n",
       " u'hesitatingly',\n",
       " u'hop',\n",
       " u'significance',\n",
       " u'dignified',\n",
       " u'A',\n",
       " u'sighted',\n",
       " u'hoot',\n",
       " u'abstraction',\n",
       " u'MORALS',\n",
       " u'inherent',\n",
       " u'disrated',\n",
       " u'envied',\n",
       " u'shores',\n",
       " u'wrong',\n",
       " u'homewardbound',\n",
       " u'destined',\n",
       " u'L1',\n",
       " u'habitude',\n",
       " u'irradiate',\n",
       " u'HAND',\n",
       " u'domed',\n",
       " u'obscuring',\n",
       " u'Arethusa',\n",
       " u'persuasiveness',\n",
       " u'calves',\n",
       " u'trellised',\n",
       " u'immitigable',\n",
       " u'pyramidical',\n",
       " u'sweatings',\n",
       " u'presiding',\n",
       " u'phrenology',\n",
       " u'baggage',\n",
       " u'Another',\n",
       " u'keeps',\n",
       " u'democratic',\n",
       " u'mightier',\n",
       " u'wing',\n",
       " u'wind',\n",
       " u'wine',\n",
       " u'sprawling',\n",
       " u'snugly',\n",
       " u'betters',\n",
       " u'dreamed',\n",
       " u'Blackstone',\n",
       " u'wiseish',\n",
       " u'profaned',\n",
       " u'narwhales',\n",
       " u'intangible',\n",
       " u'medicament',\n",
       " u'incoherences',\n",
       " u'patrolled',\n",
       " u'fidelity',\n",
       " u'sentry',\n",
       " u'TRUE',\n",
       " u'wrought',\n",
       " u'admirably',\n",
       " u'His',\n",
       " u'Arkite',\n",
       " u'fit',\n",
       " u'Prairies',\n",
       " u'screaming',\n",
       " u'fix',\n",
       " u'mayst',\n",
       " u'HEREABOUTS',\n",
       " u'rescued',\n",
       " u'DANIEL',\n",
       " u'Glimpses',\n",
       " u'bowstring',\n",
       " u'zag',\n",
       " u'nobler',\n",
       " u'wales',\n",
       " u'hidden',\n",
       " u'alpine',\n",
       " u'fin',\n",
       " u'Him',\n",
       " u'feelest',\n",
       " u'grievous',\n",
       " u'copying',\n",
       " u'thrones',\n",
       " u'sneezing',\n",
       " u'slate',\n",
       " u'riggers',\n",
       " u'disturb',\n",
       " u'Commonly',\n",
       " u'LIGHTNING',\n",
       " u'throned',\n",
       " u'effects',\n",
       " u'scarfing',\n",
       " u'elevates',\n",
       " u'interrupt',\n",
       " u'sixteen',\n",
       " u'slats',\n",
       " u'silver',\n",
       " u'vernacular',\n",
       " u'represents',\n",
       " u'Start',\n",
       " u'holiness',\n",
       " u'STARBUCK',\n",
       " u'upliftings',\n",
       " u'dumps',\n",
       " u'Shame',\n",
       " u'spotless',\n",
       " u'1750',\n",
       " u'Dutchman',\n",
       " u'Platonists',\n",
       " u'interfering',\n",
       " u'intercepted',\n",
       " u'burial',\n",
       " u'preceded',\n",
       " u'whim',\n",
       " u'Perchance',\n",
       " u'telescope',\n",
       " u'woes',\n",
       " u'warlike',\n",
       " u'series',\n",
       " u'stronger',\n",
       " u'bowls',\n",
       " u'swaths',\n",
       " u'stoneless',\n",
       " u'precedes',\n",
       " u'rind',\n",
       " u'Lionel',\n",
       " u'cathedral',\n",
       " u'allay',\n",
       " u'blinded',\n",
       " u'whip',\n",
       " u'borne',\n",
       " u'preciousness',\n",
       " u'misfortune',\n",
       " u'drove',\n",
       " u'elucidating',\n",
       " u'centaurs',\n",
       " u'ha',\n",
       " u'BENNETT',\n",
       " u'excepting',\n",
       " u'urbane',\n",
       " u're',\n",
       " u'specialties',\n",
       " u'ponderings',\n",
       " u'mend',\n",
       " u'cassock',\n",
       " u'millions',\n",
       " u'outburst',\n",
       " u'Vanity',\n",
       " u'rented',\n",
       " u'stamping',\n",
       " u'assured',\n",
       " u'higgledy',\n",
       " u'foremastmen',\n",
       " u'Work',\n",
       " u'threatened',\n",
       " u'fugitive',\n",
       " u'VISITS',\n",
       " u'assures',\n",
       " u'dragons',\n",
       " u'encountering',\n",
       " u'grapes',\n",
       " u'Trinity',\n",
       " u'crowned',\n",
       " u'estimate',\n",
       " u'solicited',\n",
       " u'knit',\n",
       " u'universally',\n",
       " u'enormous',\n",
       " u'ate',\n",
       " u'Socratic',\n",
       " u'shelves',\n",
       " u'interflow',\n",
       " u'flurry',\n",
       " u'Horn',\n",
       " u'shipped',\n",
       " u'speedy',\n",
       " u'knobby',\n",
       " u'Human',\n",
       " u'reserving',\n",
       " u'Gall',\n",
       " u'Niger',\n",
       " u'symbolize',\n",
       " u'caught',\n",
       " u'flitting',\n",
       " u'pitchpoling',\n",
       " u'breed',\n",
       " u'Rarmai',\n",
       " u'Peace',\n",
       " u'subtlety',\n",
       " u'playfully',\n",
       " u'Please',\n",
       " u'wast',\n",
       " u'sallies',\n",
       " u'channels',\n",
       " u'wash',\n",
       " u'spinning',\n",
       " u'FIGURED',\n",
       " u'joyousness',\n",
       " u'clamorous',\n",
       " u'wasn',\n",
       " u'baulks',\n",
       " u'sallied',\n",
       " u'attar',\n",
       " u'Dut',\n",
       " u'WHITE',\n",
       " u'specially',\n",
       " u'masted',\n",
       " u'service',\n",
       " u'similarly',\n",
       " u'lege',\n",
       " u'needed',\n",
       " u'master',\n",
       " u'blossoms',\n",
       " u'unprofessional',\n",
       " u'legs',\n",
       " u'bitter',\n",
       " u'ranging',\n",
       " u'rummaged',\n",
       " u'Alexander',\n",
       " u'banister',\n",
       " u'Ifs',\n",
       " u'immensities',\n",
       " u'fibrous',\n",
       " u'lunges',\n",
       " u'lumber',\n",
       " u'frowned',\n",
       " u'cisterns',\n",
       " u'wisdom',\n",
       " u'incoherently',\n",
       " u'task',\n",
       " u'mutilated',\n",
       " u'Victory',\n",
       " u'palsy',\n",
       " u'sulphur',\n",
       " u'crawl',\n",
       " u'positively',\n",
       " u').--',\n",
       " u'expanding',\n",
       " u'Icebergs',\n",
       " u'Meshach',\n",
       " u'peril',\n",
       " u'exultation',\n",
       " u'showed',\n",
       " u'icicle',\n",
       " u'coward',\n",
       " u'tree',\n",
       " u'rusty',\n",
       " u'idly',\n",
       " u'nations',\n",
       " u'project',\n",
       " u'predominating',\n",
       " u'exclaimed',\n",
       " u'fragrance',\n",
       " u'Cods',\n",
       " u'spermaceti',\n",
       " u'103',\n",
       " u'feeling',\n",
       " u'besooted',\n",
       " u'Angelo',\n",
       " u'Vice',\n",
       " u'AUGUST',\n",
       " u'willingness',\n",
       " u'broods',\n",
       " u'orbits',\n",
       " u'dough',\n",
       " u'Keeping',\n",
       " u'craven',\n",
       " u'antagonistic',\n",
       " u'headland',\n",
       " u'Gallipagos',\n",
       " u'Intolerably',\n",
       " u'brawny',\n",
       " u'interblending',\n",
       " u'quay',\n",
       " u'paddled',\n",
       " u'Angels',\n",
       " u'baser',\n",
       " u'dozen',\n",
       " u'Then',\n",
       " u'forgive',\n",
       " u'kidnap',\n",
       " u'wholesome',\n",
       " u'concrete',\n",
       " u'source',\n",
       " u'climate',\n",
       " u'Thee',\n",
       " u'responsible',\n",
       " u'gripe',\n",
       " u'eagerly',\n",
       " u'metallic',\n",
       " u'circumambient',\n",
       " u'NANTUCKET',\n",
       " u'causing',\n",
       " u'absorbed',\n",
       " u'quill',\n",
       " u'They',\n",
       " u'Unicorn',\n",
       " u'warrantry',\n",
       " u'inanimate',\n",
       " u'Jones',\n",
       " u'buck',\n",
       " u'Wise',\n",
       " u'committing',\n",
       " u'transactions',\n",
       " u'thrilled',\n",
       " u'Wish',\n",
       " u'object',\n",
       " u'looming',\n",
       " u'mouts',\n",
       " u'toil',\n",
       " u'mouth',\n",
       " u'inexpressible',\n",
       " u'letter',\n",
       " u'vicinities',\n",
       " u'retaining',\n",
       " u'thicker',\n",
       " u'drought',\n",
       " u'shalt',\n",
       " u'bowings',\n",
       " u'stupid',\n",
       " u'episode',\n",
       " u'bisons',\n",
       " u'grove',\n",
       " u'professor',\n",
       " u'wreck',\n",
       " u'circlings',\n",
       " u'shiftings',\n",
       " u'Magnitude',\n",
       " u'singed',\n",
       " u'Lothario',\n",
       " u'promiscuously',\n",
       " u'nineteenth',\n",
       " u'scream',\n",
       " u'came',\n",
       " u'marvel',\n",
       " u'saying',\n",
       " u'gorings',\n",
       " u'partiality',\n",
       " u'departing',\n",
       " u'Cambyses',\n",
       " u'blazed',\n",
       " u'meetings',\n",
       " u'liest',\n",
       " u'padded',\n",
       " u'Rafters',\n",
       " u'whittling',\n",
       " u'unconditional',\n",
       " u'Paradise',\n",
       " u'pilau',\n",
       " u'tempted',\n",
       " u'cheaply',\n",
       " u'abreast',\n",
       " u'vindictive',\n",
       " u'caper',\n",
       " u'touches',\n",
       " u'copy',\n",
       " u'clicked',\n",
       " u'shuffling',\n",
       " u'quaint',\n",
       " u'flip',\n",
       " u'bust',\n",
       " u'unmisgiving',\n",
       " u'cougar',\n",
       " u'overwrapped',\n",
       " u'halfspent',\n",
       " u'bliss',\n",
       " u'touched',\n",
       " u'rich',\n",
       " u'upbraiding',\n",
       " u'foolishly',\n",
       " u'codfish',\n",
       " u'Octavo',\n",
       " u'Belated',\n",
       " u'emphatically',\n",
       " u'plate',\n",
       " u'remotest',\n",
       " u'Lima',\n",
       " u'petrified',\n",
       " u'Nevertheless',\n",
       " u'freshening',\n",
       " u'umbilical',\n",
       " u'terrors',\n",
       " u'foremost',\n",
       " u'pocket',\n",
       " u'Petrified',\n",
       " u'altogether',\n",
       " u'X',\n",
       " u'Labor',\n",
       " u'uncleanliness',\n",
       " u'ECUADOR',\n",
       " u'Senators',\n",
       " u'contributes',\n",
       " u'Shipmate',\n",
       " u'spilling',\n",
       " u'nicely',\n",
       " u'blanched',\n",
       " u'accordance',\n",
       " u'dipping',\n",
       " u'patch',\n",
       " u'Rio',\n",
       " u'eyelids',\n",
       " u'fitly',\n",
       " u'flanked',\n",
       " u'Rig',\n",
       " u'boarded',\n",
       " u'circling',\n",
       " u'respond',\n",
       " u'distortions',\n",
       " u'blew',\n",
       " u'disaster',\n",
       " u'fair',\n",
       " u'expediency',\n",
       " u'branding',\n",
       " u'conservatories',\n",
       " u'recruit',\n",
       " u'unexpectedly',\n",
       " u'bled',\n",
       " u'flaxen',\n",
       " u'result',\n",
       " u'fail',\n",
       " u'crouch',\n",
       " u'fain',\n",
       " u'resigned',\n",
       " u'hammer',\n",
       " u'best',\n",
       " u'pricking',\n",
       " u'Coleridge',\n",
       " u'lots',\n",
       " u'fanged',\n",
       " u'rings',\n",
       " u'solace',\n",
       " u'droves',\n",
       " u'RESPECTABLE',\n",
       " u'score',\n",
       " u'imposingly',\n",
       " u'scorn',\n",
       " u'pirate',\n",
       " u'preserve',\n",
       " u'discipline',\n",
       " u'never',\n",
       " u'Whalebone',\n",
       " u'parallels',\n",
       " u'extend',\n",
       " u'nature',\n",
       " u'rolled',\n",
       " u'inextricable',\n",
       " u'superficial',\n",
       " u'toilette',\n",
       " u'Flip',\n",
       " u'twinkling',\n",
       " u'extent',\n",
       " u'wheelbarrow',\n",
       " u'tendons',\n",
       " u'dexterously',\n",
       " u'Peterson',\n",
       " u'Arm',\n",
       " u'pity',\n",
       " u'accident',\n",
       " u'hued',\n",
       " u'veer',\n",
       " u'disdain',\n",
       " u'corrupted',\n",
       " u'country',\n",
       " u'damsels',\n",
       " u'cup',\n",
       " u'adventures',\n",
       " u'demanded',\n",
       " u'pestiferously',\n",
       " u'BRACE',\n",
       " u'punctiliously',\n",
       " u'wrapping',\n",
       " u'planned',\n",
       " u'dents',\n",
       " u'argue',\n",
       " u'adapted',\n",
       " u'asked',\n",
       " u'fearlessly',\n",
       " u'lockers',\n",
       " u'brittle',\n",
       " u'pre',\n",
       " u'interregnum',\n",
       " u'topmost',\n",
       " u'honouring',\n",
       " u'vain',\n",
       " u'Christmas',\n",
       " u'caps',\n",
       " u'102',\n",
       " u'charnel',\n",
       " u'clefts',\n",
       " u'gleaming',\n",
       " u'Gently',\n",
       " u'blending',\n",
       " u'humming',\n",
       " u'truthful',\n",
       " u'grazing',\n",
       " u'Instantly',\n",
       " u'signals',\n",
       " u'lighthouse',\n",
       " u'101',\n",
       " u'icebergs',\n",
       " u'hues',\n",
       " u'remained',\n",
       " u'fro',\n",
       " u'Malay',\n",
       " u'.',\n",
       " u'twain',\n",
       " u'much',\n",
       " u'Schmerenburgh',\n",
       " u'interpret',\n",
       " u'privilege',\n",
       " u'fry',\n",
       " u'contraction',\n",
       " u'tallest',\n",
       " u'incompetent',\n",
       " u'cub',\n",
       " u'life',\n",
       " u'fusee',\n",
       " u'spit',\n",
       " u'eastern',\n",
       " u'Poland',\n",
       " u'worker',\n",
       " u'synod',\n",
       " u'befriending',\n",
       " u'lift',\n",
       " u'slap',\n",
       " u'doubts',\n",
       " u'worked',\n",
       " u'haters',\n",
       " u'spin',\n",
       " u'forewarnings',\n",
       " u'skilfully',\n",
       " u'chill',\n",
       " u'commerce',\n",
       " u'charted',\n",
       " u'Annawon',\n",
       " u'sanctorum',\n",
       " u'Beware',\n",
       " u'contingencies',\n",
       " u'stiffest',\n",
       " u'excited',\n",
       " u'employ',\n",
       " u'?--\"',\n",
       " u'maned',\n",
       " u'unfulfilments',\n",
       " u\"?--'\",\n",
       " u'predestinating',\n",
       " u'opulence',\n",
       " u'wonted',\n",
       " u'epicurean',\n",
       " u'BALLENA',\n",
       " u'Crusaders',\n",
       " u'skirts',\n",
       " u'remembering',\n",
       " u'footstep',\n",
       " u'Both',\n",
       " u'equator',\n",
       " u'curvicues',\n",
       " u'actuated',\n",
       " u'locksmith',\n",
       " u'obeying',\n",
       " u'taunts',\n",
       " u'eighteen',\n",
       " u'ghastliness',\n",
       " u'Ginger',\n",
       " u'Sword',\n",
       " u'Gazette',\n",
       " u'LEAP',\n",
       " u'Constantinople',\n",
       " u'hone',\n",
       " u'Denderah',\n",
       " u'damaged',\n",
       " u'Main',\n",
       " u'feebler',\n",
       " u'whimsicalities',\n",
       " u'malefactors',\n",
       " u'credit',\n",
       " u'things',\n",
       " u'Oh',\n",
       " u'shipwrecked',\n",
       " u'rebellion',\n",
       " u'Tahitian',\n",
       " u'Antony',\n",
       " u'swarthy',\n",
       " u'gateways',\n",
       " u'babies',\n",
       " u'visitations',\n",
       " u'provincials',\n",
       " u'toasted',\n",
       " u'voyager',\n",
       " u'fairly',\n",
       " u'spying',\n",
       " u'jerked',\n",
       " u'superstitious',\n",
       " u'marches',\n",
       " u'tuns',\n",
       " u'Maybe',\n",
       " u'surveying',\n",
       " u'tops',\n",
       " u'dexterous',\n",
       " u'seamen',\n",
       " u'boiler',\n",
       " u'voyaged',\n",
       " u'supper',\n",
       " u'Persia',\n",
       " u'blister',\n",
       " u'altar',\n",
       " u'rebut',\n",
       " u'meads',\n",
       " u'peremptory',\n",
       " u'ventricles',\n",
       " u'echoed',\n",
       " u'stillness',\n",
       " u'indomitable',\n",
       " u'Table',\n",
       " u'milliner',\n",
       " u'Betty',\n",
       " u'benignity',\n",
       " u'THAR',\n",
       " u'spurred',\n",
       " u'boyhood',\n",
       " u'javelins',\n",
       " u'Sartain',\n",
       " u'sleeps',\n",
       " u'THAT',\n",
       " u'Rabbins',\n",
       " u'sleepy',\n",
       " u'fantastic',\n",
       " u'sleepe',\n",
       " u'disguise',\n",
       " u'maketh',\n",
       " u'patronise',\n",
       " u'shading',\n",
       " u'exclaiming',\n",
       " u'plight',\n",
       " u'rushing',\n",
       " u'succeeding',\n",
       " u'previous',\n",
       " u'Eternity',\n",
       " u'keeled',\n",
       " u'enters',\n",
       " u'ham',\n",
       " u'sciences',\n",
       " u'SPRINGING',\n",
       " u'ease',\n",
       " u'sultanically',\n",
       " u'had',\n",
       " u'ideal',\n",
       " u'hag',\n",
       " u'Figuera',\n",
       " u'hay',\n",
       " u'Connecticut',\n",
       " u'Surely',\n",
       " u'innocent',\n",
       " u'prison',\n",
       " u'hap',\n",
       " u'shoemaker',\n",
       " u'east',\n",
       " u'hat',\n",
       " u'hav',\n",
       " u'unblinkingly',\n",
       " u'explained',\n",
       " u'elevation',\n",
       " u'casually',\n",
       " u'ballasted',\n",
       " u'elders',\n",
       " u'survival',\n",
       " u'thermometer',\n",
       " u'possible',\n",
       " u'lengthen',\n",
       " u'possibly',\n",
       " u'rocket',\n",
       " u'hermaphroditical',\n",
       " u'birth',\n",
       " u'Missouri',\n",
       " u'TAKEN',\n",
       " u'altitude',\n",
       " u'shadow',\n",
       " u'unique',\n",
       " u'tolerable',\n",
       " u'bushy',\n",
       " u'desire',\n",
       " u'county',\n",
       " u'articulated',\n",
       " u'scan',\n",
       " u'phrensied',\n",
       " u'tapering',\n",
       " u'triumphal',\n",
       " u'Harvard',\n",
       " u'marquee',\n",
       " u'repassing',\n",
       " u'Ezekiel',\n",
       " u'remind',\n",
       " u'pavement',\n",
       " u'steps',\n",
       " u'Aristotle',\n",
       " u'Further',\n",
       " u'continuation',\n",
       " u'vats',\n",
       " u'warping',\n",
       " u'right',\n",
       " u'old',\n",
       " u'jackets',\n",
       " u'crowd',\n",
       " u'people',\n",
       " u'Literally',\n",
       " u'creed',\n",
       " u'crown',\n",
       " u'System',\n",
       " u'captive',\n",
       " u'sterns',\n",
       " u'fagot',\n",
       " u'warring',\n",
       " u'prick',\n",
       " u'animate',\n",
       " u'Canaller',\n",
       " u'enemies',\n",
       " u'gasps',\n",
       " u'perchance',\n",
       " u'ruffled',\n",
       " u'for',\n",
       " u'bottom',\n",
       " u'goggling',\n",
       " u'inhuman',\n",
       " u'plucked',\n",
       " u'witty',\n",
       " u'foe',\n",
       " u'ruffles',\n",
       " u'fog',\n",
       " u'summoned',\n",
       " u'pondered',\n",
       " u'serpents',\n",
       " u'indication',\n",
       " u'Epitome',\n",
       " u'dined',\n",
       " u'pinched',\n",
       " u'Watts',\n",
       " u'shakes',\n",
       " u'sisterly',\n",
       " u'mildewed',\n",
       " u'post',\n",
       " u'terraces',\n",
       " u'clearer',\n",
       " u'binder',\n",
       " u'Thine',\n",
       " u'yoke',\n",
       " u'evaporate',\n",
       " u'falsified',\n",
       " u'tribes',\n",
       " u'losing',\n",
       " u'memorable',\n",
       " u'bowing',\n",
       " u'falls',\n",
       " u'Remote',\n",
       " ...}"
      ]
     },
     "execution_count": 29,
     "metadata": {},
     "output_type": "execute_result"
    }
   ],
   "source": [
    "set(text1)"
   ]
  },
  {
   "cell_type": "code",
   "execution_count": 30,
   "metadata": {
    "collapsed": false
   },
   "outputs": [
    {
     "data": {
      "text/plain": [
       "193"
      ]
     },
     "execution_count": 30,
     "metadata": {},
     "output_type": "execute_result"
    }
   ],
   "source": [
    "len(set(text1))/100"
   ]
  },
  {
   "cell_type": "code",
   "execution_count": 31,
   "metadata": {
    "collapsed": false
   },
   "outputs": [
    {
     "ename": "TypeError",
     "evalue": "unsupported operand type(s) for /: 'int' and 'set'",
     "output_type": "error",
     "traceback": [
      "\u001b[0;31m---------------------------------------------------------------------------\u001b[0m",
      "\u001b[0;31mTypeError\u001b[0m                                 Traceback (most recent call last)",
      "\u001b[0;32m<ipython-input-31-a60849843ad2>\u001b[0m in \u001b[0;36m<module>\u001b[0;34m()\u001b[0m\n\u001b[0;32m----> 1\u001b[0;31m \u001b[0mlen\u001b[0m\u001b[0;34m(\u001b[0m\u001b[0mset\u001b[0m\u001b[0;34m(\u001b[0m\u001b[0mtext1\u001b[0m\u001b[0;34m)\u001b[0m\u001b[0;34m)\u001b[0m \u001b[0;34m*\u001b[0m \u001b[0;36m100\u001b[0m\u001b[0;34m/\u001b[0m\u001b[0mset\u001b[0m\u001b[0;34m(\u001b[0m\u001b[0mtext1\u001b[0m\u001b[0;34m)\u001b[0m\u001b[0;34m\u001b[0m\u001b[0m\n\u001b[0m",
      "\u001b[0;31mTypeError\u001b[0m: unsupported operand type(s) for /: 'int' and 'set'"
     ]
    }
   ],
   "source": [
    "len(set(text1)) * 100/set(text1)"
   ]
  },
  {
   "cell_type": "code",
   "execution_count": 34,
   "metadata": {
    "collapsed": false
   },
   "outputs": [
    {
     "data": {
      "text/plain": [
       "7.406285585022563"
      ]
     },
     "execution_count": 34,
     "metadata": {},
     "output_type": "execute_result"
    }
   ],
   "source": [
    "from __future__ import division\n",
    "\n",
    "len(set(text1)) /len(text1) * 100"
   ]
  },
  {
   "cell_type": "code",
   "execution_count": 35,
   "metadata": {
    "collapsed": true
   },
   "outputs": [],
   "source": [
    "def unique_percent(text):\n",
    "    return len(set(text1)) /len(text) * 100"
   ]
  },
  {
   "cell_type": "code",
   "execution_count": 36,
   "metadata": {
    "collapsed": false
   },
   "outputs": [
    {
     "data": {
      "text/plain": [
       "7.406285585022563"
      ]
     },
     "execution_count": 36,
     "metadata": {},
     "output_type": "execute_result"
    }
   ],
   "source": [
    "unique_percent(text1)"
   ]
  },
  {
   "cell_type": "code",
   "execution_count": 39,
   "metadata": {
    "collapsed": false
   },
   "outputs": [
    {
     "data": {
      "text/plain": [
       "['is', 'are', 'you', 'an', 'am', 'was']"
      ]
     },
     "execution_count": 39,
     "metadata": {},
     "output_type": "execute_result"
    }
   ],
   "source": [
    "sent1 = ['is', 'are', 'you', 'an']\n",
    "\n",
    "sent2 = ['am', 'was']\n",
    "\n",
    "sent1 + sent2"
   ]
  },
  {
   "cell_type": "code",
   "execution_count": 40,
   "metadata": {
    "collapsed": true
   },
   "outputs": [],
   "source": [
    "sent1.append('hello')"
   ]
  },
  {
   "cell_type": "code",
   "execution_count": null,
   "metadata": {
    "collapsed": true
   },
   "outputs": [],
   "source": []
  }
 ],
 "metadata": {
  "kernelspec": {
   "display_name": "Python 2",
   "language": "python",
   "name": "python2"
  },
  "language_info": {
   "codemirror_mode": {
    "name": "ipython",
    "version": 2
   },
   "file_extension": ".py",
   "mimetype": "text/x-python",
   "name": "python",
   "nbconvert_exporter": "python",
   "pygments_lexer": "ipython2",
   "version": "2.7.6"
  }
 },
 "nbformat": 4,
 "nbformat_minor": 2
}
